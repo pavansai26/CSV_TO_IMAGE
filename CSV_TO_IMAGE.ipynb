{
  "nbformat": 4,
  "nbformat_minor": 0,
  "metadata": {
    "colab": {
      "provenance": [],
      "authorship_tag": "ABX9TyPRg84Q9a69f/jDYKT3zyjs",
      "include_colab_link": true
    },
    "kernelspec": {
      "name": "python3",
      "display_name": "Python 3"
    },
    "language_info": {
      "name": "python"
    }
  },
  "cells": [
    {
      "cell_type": "markdown",
      "metadata": {
        "id": "view-in-github",
        "colab_type": "text"
      },
      "source": [
        "<a href=\"https://colab.research.google.com/github/pavansai26/CSV_TO_IMAGE/blob/main/CSV_TO_IMAGE.ipynb\" target=\"_parent\"><img src=\"https://colab.research.google.com/assets/colab-badge.svg\" alt=\"Open In Colab\"/></a>"
      ]
    },
    {
      "cell_type": "code",
      "execution_count": 1,
      "metadata": {
        "id": "NsfcIy7ikSN1"
      },
      "outputs": [],
      "source": [
        "def create_image(csv_file, red_col, green_col, blue_col):\n",
        "    # Load CSV data into pandas DataFrame\n",
        "    df = pd.read_csv(csv_file)\n",
        "    # Select the columns for red, green, and blue channels\n",
        "    r = df[red_col].values\n",
        "    g = df[green_col].values\n",
        "    b = df[blue_col].values\n",
        "    # Normalize values to 0-255 range\n",
        "    r = (r - np.min(r)) / (np.max(r) - np.min(r)) * 255\n",
        "    g = (g - np.min(g)) / (np.max(g) - np.min(g)) * 255\n",
        "    b = (b - np.min(b)) / (np.max(b) - np.min(b)) * 255\n",
        "    # Create 2D array of RGB values\n",
        "    rgb_array = np.zeros((len(df), 3), dtype=np.uint8)\n",
        "    rgb_array[:, 0] = r\n",
        "    rgb_array[:, 1] = g\n",
        "    rgb_array[:, 2] = b\n",
        "    # Create image from RGB array\n",
        "    image = Image.fromarray(rgb_array, mode='RGB')\n",
        "    return image"
      ]
    },
    {
      "cell_type": "code",
      "source": [
        "import cv2\n",
        "import csv\n",
        "import numpy as np\n",
        "\n",
        "def csv_to_image(filename, red_col, green_col, blue_col):\n",
        "    # Open the CSV file and read the data into a list of tuples\n",
        "    with open(filename, 'r') as csvfile:\n",
        "        reader = csv.DictReader(csvfile)\n",
        "        data = [(float(row[red_col]), float(row[green_col]), float(row[blue_col])) for row in reader]\n",
        "\n",
        "    # Convert the data to a numpy array\n",
        "    data = np.array(data)\n",
        "\n",
        "    # Scale the RGB values from 0-255\n",
        "    data = np.interp(data, (data.min(), data.max()), (0, 255))\n",
        "\n",
        "    # Reshape the array to an image format\n",
        "    data = np.reshape(data, (1, -1, 3)).astype(np.uint8)\n",
        "\n",
        "    # Create the image\n",
        "    img = cv2.cvtColor(data, cv2.COLOR_RGB2BGR)\n",
        "\n",
        "    return img\n",
        "\n",
        "\n",
        "img = csv_to_image('data.csv', 0, 1, 2)\n",
        "cv2.imshow('image', img)\n",
        "cv2.waitKey(0)\n",
        "cv2.destroyAllWindows()\n"
      ],
      "metadata": {
        "colab": {
          "base_uri": "https://localhost:8080/",
          "height": 365
        },
        "id": "aKMCw1TNkbFa",
        "outputId": "472a3145-e60b-462b-946b-5bbc9e19bb94"
      },
      "execution_count": 2,
      "outputs": [
        {
          "output_type": "error",
          "ename": "FileNotFoundError",
          "evalue": "ignored",
          "traceback": [
            "\u001b[0;31m---------------------------------------------------------------------------\u001b[0m",
            "\u001b[0;31mFileNotFoundError\u001b[0m                         Traceback (most recent call last)",
            "\u001b[0;32m<ipython-input-2-2c74dff111fb>\u001b[0m in \u001b[0;36m<cell line: 26>\u001b[0;34m()\u001b[0m\n\u001b[1;32m     24\u001b[0m \u001b[0;34m\u001b[0m\u001b[0m\n\u001b[1;32m     25\u001b[0m \u001b[0;34m\u001b[0m\u001b[0m\n\u001b[0;32m---> 26\u001b[0;31m \u001b[0mimg\u001b[0m \u001b[0;34m=\u001b[0m \u001b[0mcsv_to_image\u001b[0m\u001b[0;34m(\u001b[0m\u001b[0;34m'data.csv'\u001b[0m\u001b[0;34m,\u001b[0m \u001b[0;36m0\u001b[0m\u001b[0;34m,\u001b[0m \u001b[0;36m1\u001b[0m\u001b[0;34m,\u001b[0m \u001b[0;36m2\u001b[0m\u001b[0;34m)\u001b[0m\u001b[0;34m\u001b[0m\u001b[0;34m\u001b[0m\u001b[0m\n\u001b[0m\u001b[1;32m     27\u001b[0m \u001b[0mcv2\u001b[0m\u001b[0;34m.\u001b[0m\u001b[0mimshow\u001b[0m\u001b[0;34m(\u001b[0m\u001b[0;34m'image'\u001b[0m\u001b[0;34m,\u001b[0m \u001b[0mimg\u001b[0m\u001b[0;34m)\u001b[0m\u001b[0;34m\u001b[0m\u001b[0;34m\u001b[0m\u001b[0m\n\u001b[1;32m     28\u001b[0m \u001b[0mcv2\u001b[0m\u001b[0;34m.\u001b[0m\u001b[0mwaitKey\u001b[0m\u001b[0;34m(\u001b[0m\u001b[0;36m0\u001b[0m\u001b[0;34m)\u001b[0m\u001b[0;34m\u001b[0m\u001b[0;34m\u001b[0m\u001b[0m\n",
            "\u001b[0;32m<ipython-input-2-2c74dff111fb>\u001b[0m in \u001b[0;36mcsv_to_image\u001b[0;34m(filename, red_col, green_col, blue_col)\u001b[0m\n\u001b[1;32m      5\u001b[0m \u001b[0;32mdef\u001b[0m \u001b[0mcsv_to_image\u001b[0m\u001b[0;34m(\u001b[0m\u001b[0mfilename\u001b[0m\u001b[0;34m,\u001b[0m \u001b[0mred_col\u001b[0m\u001b[0;34m,\u001b[0m \u001b[0mgreen_col\u001b[0m\u001b[0;34m,\u001b[0m \u001b[0mblue_col\u001b[0m\u001b[0;34m)\u001b[0m\u001b[0;34m:\u001b[0m\u001b[0;34m\u001b[0m\u001b[0;34m\u001b[0m\u001b[0m\n\u001b[1;32m      6\u001b[0m     \u001b[0;31m# Open the CSV file and read the data into a list of tuples\u001b[0m\u001b[0;34m\u001b[0m\u001b[0;34m\u001b[0m\u001b[0m\n\u001b[0;32m----> 7\u001b[0;31m     \u001b[0;32mwith\u001b[0m \u001b[0mopen\u001b[0m\u001b[0;34m(\u001b[0m\u001b[0mfilename\u001b[0m\u001b[0;34m,\u001b[0m \u001b[0;34m'r'\u001b[0m\u001b[0;34m)\u001b[0m \u001b[0;32mas\u001b[0m \u001b[0mcsvfile\u001b[0m\u001b[0;34m:\u001b[0m\u001b[0;34m\u001b[0m\u001b[0;34m\u001b[0m\u001b[0m\n\u001b[0m\u001b[1;32m      8\u001b[0m         \u001b[0mreader\u001b[0m \u001b[0;34m=\u001b[0m \u001b[0mcsv\u001b[0m\u001b[0;34m.\u001b[0m\u001b[0mDictReader\u001b[0m\u001b[0;34m(\u001b[0m\u001b[0mcsvfile\u001b[0m\u001b[0;34m)\u001b[0m\u001b[0;34m\u001b[0m\u001b[0;34m\u001b[0m\u001b[0m\n\u001b[1;32m      9\u001b[0m         \u001b[0mdata\u001b[0m \u001b[0;34m=\u001b[0m \u001b[0;34m[\u001b[0m\u001b[0;34m(\u001b[0m\u001b[0mfloat\u001b[0m\u001b[0;34m(\u001b[0m\u001b[0mrow\u001b[0m\u001b[0;34m[\u001b[0m\u001b[0mred_col\u001b[0m\u001b[0;34m]\u001b[0m\u001b[0;34m)\u001b[0m\u001b[0;34m,\u001b[0m \u001b[0mfloat\u001b[0m\u001b[0;34m(\u001b[0m\u001b[0mrow\u001b[0m\u001b[0;34m[\u001b[0m\u001b[0mgreen_col\u001b[0m\u001b[0;34m]\u001b[0m\u001b[0;34m)\u001b[0m\u001b[0;34m,\u001b[0m \u001b[0mfloat\u001b[0m\u001b[0;34m(\u001b[0m\u001b[0mrow\u001b[0m\u001b[0;34m[\u001b[0m\u001b[0mblue_col\u001b[0m\u001b[0;34m]\u001b[0m\u001b[0;34m)\u001b[0m\u001b[0;34m)\u001b[0m \u001b[0;32mfor\u001b[0m \u001b[0mrow\u001b[0m \u001b[0;32min\u001b[0m \u001b[0mreader\u001b[0m\u001b[0;34m]\u001b[0m\u001b[0;34m\u001b[0m\u001b[0;34m\u001b[0m\u001b[0m\n",
            "\u001b[0;31mFileNotFoundError\u001b[0m: [Errno 2] No such file or directory: 'data.csv'"
          ]
        }
      ]
    },
    {
      "cell_type": "code",
      "source": [
        "import csv\n",
        "from PIL import Image\n",
        "\n",
        "def csv_to_image(filename, red_col, green_col, blue_col):\n",
        "    # Open the CSV file and read the data into a list of tuples\n",
        "    with open(filename, 'r') as csvfile:\n",
        "        reader = csv.DictReader(csvfile)\n",
        "        data = [(float(row[red_col]), float(row[green_col]), float(row[blue_col])) for row in reader]\n",
        "    \n",
        "    # Determine the dimensions of the image based on the number of rows in the CSV\n",
        "    width = len(data)\n",
        "    height = 1\n",
        "    \n",
        "    # Create a new image with the specified dimensions and assign RGB values\n",
        "    img = Image.new('RGB', (width, height))\n",
        "    for x in range(width):\n",
        "        pixel_color = (int(data[x][0]), int(data[x][1]), int(data[x][2]))\n",
        "        img.putpixel((x, 0), pixel_color)\n",
        "    \n",
        "    return img\n",
        "\n",
        "    \n",
        "img = csv_to_image('data.csv', 0, 1, 2)\n",
        "img.show()\n"
      ],
      "metadata": {
        "id": "lXQj6OJ8kj2n"
      },
      "execution_count": null,
      "outputs": []
    },
    {
      "cell_type": "code",
      "source": [
        "import tensorflow as tf\n",
        "from tensorflow.keras import layers\n",
        "\n",
        "# Step 1: Prepare the dataset\n",
        "# Load the dataset and split into training and validation sets\n",
        "\n",
        "# Step 2: Preprocess the images\n",
        "# Define image size and normalization\n",
        "img_size = (224, 224)\n",
        "img_shape = img_size + (3,)\n",
        "normalize = tf.keras.layers.experimental.preprocessing.Rescaling(scale=1./255)\n",
        "\n",
        "# Step 3: Build the model\n",
        "model = tf.keras.Sequential([\n",
        "    normalize,\n",
        "    layers.Conv2D(32, (3, 3), activation='relu', input_shape=img_shape),\n",
        "    layers.MaxPooling2D((2, 2)),\n",
        "    layers.Conv2D(64, (3, 3), activation='relu'),\n",
        "    layers.MaxPooling2D((2, 2)),\n",
        "    layers.Conv2D(128, (3, 3), activation='relu'),\n",
        "    layers.MaxPooling2D((2, 2)),\n",
        "    layers.Flatten(),\n",
        "    layers.Dense(128, activation='relu'),\n",
        "    layers.Dense(1, activation='sigmoid')\n",
        "])\n",
        "\n",
        "# Step 4: Train the model\n",
        "model.compile(optimizer='adam',\n",
        "              loss='binary_crossentropy',\n",
        "              metrics=['accuracy'])\n",
        "history = model.fit(train_data,\n",
        "                    epochs=10,\n",
        "                    validation_data=val_data)\n",
        "\n",
        "# Step 5: Evaluate the model\n",
        "test_loss, test_acc = model.evaluate(test_data)\n",
        "print('Test accuracy:', test_acc)\n"
      ],
      "metadata": {
        "id": "sOVPNB-Crxqf"
      },
      "execution_count": null,
      "outputs": []
    }
  ]
}